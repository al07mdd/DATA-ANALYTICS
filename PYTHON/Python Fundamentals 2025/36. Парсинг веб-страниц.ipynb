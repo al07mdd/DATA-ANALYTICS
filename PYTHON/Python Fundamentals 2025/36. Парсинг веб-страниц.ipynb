{
 "cells": [
  {
   "cell_type": "markdown",
   "id": "642bd0e4",
   "metadata": {},
   "source": [
    "# Урок 36. Парсинг веб-страниц"
   ]
  },
  {
   "cell_type": "markdown",
   "id": "cd02e1f4-4962-4f8d-9922-b1941a16389d",
   "metadata": {},
   "source": [
    "# Введение в HTML"
   ]
  },
  {
   "cell_type": "code",
   "execution_count": 1,
   "id": "9e81d16c-4adc-4c53-a883-f617222e17ef",
   "metadata": {},
   "outputs": [
    {
     "name": "stdout",
     "output_type": "stream",
     "text": [
      "<!doctype html>\n",
      "<html>\n",
      "<head>\n",
      "    <title>Example Domain</title>\n",
      "\n",
      "    <meta charset=\"utf-8\" />\n",
      "    <meta http-equiv=\"Content-type\" content=\"text/html; charset=utf-8\" />\n",
      "    <meta name=\"viewport\" content=\"width=device-width, initial-scale=1\" />\n",
      "    <style type=\"text/css\">\n",
      "    body {\n",
      "        background-color: #f0f0f2;\n",
      "        margin: 0;\n",
      "        padding: 0;\n",
      "        font-family: -apple-system, system-ui, BlinkMacSystemFont, \"Segoe UI\", \"Open Sans\", \"Helvetica Neue\", Helvetica, Arial, sans-serif;\n",
      "        \n",
      "    }\n",
      "    div {\n",
      "        width: 600px;\n",
      "        margin: 5em auto;\n",
      "        padding: 2em;\n",
      "        background-color: #fdfdff;\n",
      "        border-radius: 0.5em;\n",
      "        box-shadow: 2px 3px 7px 2px rgba(0,0,0,0.02);\n",
      "    }\n",
      "    a:link, a:visited {\n",
      "        color: #38488f;\n",
      "        text-decoration: none;\n",
      "    }\n",
      "    @media (max-width: 700px) {\n",
      "        div {\n",
      "            margin: 0 auto;\n",
      "            width: auto;\n",
      "        }\n",
      "    }\n",
      "    </style>    \n",
      "</head>\n",
      "\n",
      "<body>\n",
      "<div>\n",
      "    <h1>Example Domain</h1>\n",
      "    <p>This domain is for use in illustrative examples in documents. You may use this\n",
      "    domain in literature without prior coordination or asking for permission.</p>\n",
      "    <p><a href=\"https://www.iana.org/domains/example\">More information...</a></p>\n",
      "</div>\n",
      "</body>\n",
      "</html>\n",
      "\n"
     ]
    }
   ],
   "source": [
    "import requests\n",
    "\n",
    "response = requests.get(\"https://example.com\")\n",
    "print(response.text)"
   ]
  },
  {
   "cell_type": "markdown",
   "id": "f5deda55-3673-4286-8b31-285a94764298",
   "metadata": {},
   "source": [
    "**HTML (HyperText Markup Language)** — это язык разметки, с помощью которого создаются и структурируются веб-страницы. Он указывает браузеру, **что отображать** (заголовки, текст, изображения, таблицы и т.д.) и **как это организовано** на странице.\n",
    "\n",
    "HTML-документ состоит из **тегов**, которые обрамляют каждый элемент страницы и говорят, как этот элемент должен выглядеть. Большинство тегов имеют открывающую и закрывающую форму:\n",
    "``` html\n",
    "<i>Это курсив</i>"
   ]
  },
  {
   "cell_type": "markdown",
   "id": "978b7004-9019-46de-aaef-69553b081d35",
   "metadata": {},
   "source": [
    "<i>Это курсив</i>"
   ]
  },
  {
   "cell_type": "markdown",
   "id": "178ccd92-6fd4-427d-9591-fe93d0cad2f3",
   "metadata": {},
   "source": [
    "Самозакрывающиеся теги:\n",
    "``` html\n",
    "<img src=\"https://static.tildacdn.net/tild3333-3534-4535-a465-643634653734/Group_3793.svg\" alt=\"logo\">"
   ]
  },
  {
   "cell_type": "markdown",
   "id": "a64513fc-5da9-47a4-bdb0-43e1804e2945",
   "metadata": {},
   "source": [
    "<img src=\"https://static.tildacdn.net/tild3333-3534-4535-a465-643634653734/Group_3793.svg\" alt=\"logo\">"
   ]
  },
  {
   "cell_type": "markdown",
   "id": "74b5b43e-612b-4bc9-bcee-2f3fe0b1ff8f",
   "metadata": {},
   "source": [
    "# Структура HTML-документа"
   ]
  },
  {
   "cell_type": "markdown",
   "id": "cab3ce43-f3be-464a-a551-1af1d35f2a5c",
   "metadata": {},
   "source": [
    "Каждый HTML-документ начинается с `<!DOCTYPE html>`, затем идут основные блоки:\n",
    "``` html\n",
    "<!DOCTYPE html>\n",
    "<html>\n",
    "  <head>\n",
    "    <meta charset=\"UTF-8\">\n",
    "    <title>Заголовок страницы</title>\n",
    "  </head>\n",
    "  <body>\n",
    "    <!-- Вся видимая часть страницы -->\n",
    "  </body>\n",
    "</html>"
   ]
  },
  {
   "cell_type": "markdown",
   "id": "cf7b816b-a8f2-4261-9778-dd5bfde2d402",
   "metadata": {},
   "source": [
    "**Основные теги**\n",
    "\n",
    "- `<html>` — корневой элемент HTML-документа, объединяет всё содержимое страницы.\n",
    "- `<head>` — невидимая часть документа, содержит метаданные, стили, скрипты и заголовок страницы.\n",
    "- `<title>` — задаёт заголовок страницы, который отображается во вкладке браузера.\n",
    "- `<meta>` — содержит метаданные, такие как кодировка, описание, ключевые слова и др.\n",
    "- `<body>` — основное содержимое страницы, отображаемое в браузере (текст, изображения, таблицы и т.д.).\n",
    "\n",
    "\n",
    "**Текст**\n",
    "\n",
    "- `<h1>` – `<h6>` — заголовки, где `<h1>` — самый крупный  \n",
    "- `<p>` — абзац (параграф)  \n",
    "- `<strong>`, `<b>` — жирный текст  \n",
    "- `<em>`, `<i>` — курсив  \n",
    "- `<br>` — перенос строки  \n",
    "- `<hr>` — горизонтальная линия  \n",
    "\n",
    "**Списки**\n",
    "\n",
    "- `<ul>` — маркированный список (unordered list)  \n",
    "- `<ol>` — нумерованный список (ordered list)  \n",
    "- `<li>` — элемент списка (list item)  \n",
    "\n",
    "**Ссылки и изображения**\n",
    "\n",
    "- `<a href=\"ссылка\">` — гиперссылка  \n",
    "- `<img src=\"путь\" alt=\"описание\">` — изображение  "
   ]
  },
  {
   "cell_type": "markdown",
   "id": "a2eada23-b3ee-45e5-b9df-175e4453b240",
   "metadata": {},
   "source": [
    "``` html\n",
    "<!DOCTYPE html>\n",
    "<html>\n",
    "<head>\n",
    "  <meta charset=\"UTF-8\">\n",
    "  <title>Моя первая страница</title>\n",
    "</head>\n",
    "<body>\n",
    "  <h1>Добро пожаловать!</h1>\n",
    "\n",
    "  <p>Это пример простой HTML-страницы. Здесь вы увидите разные теги.</p>\n",
    "\n",
    "  <h2>Список языков:</h2>\n",
    "  <ul>\n",
    "    <li>HTML</li>\n",
    "    <li>CSS</li>\n",
    "    <li>JavaScript</li>\n",
    "  </ul>\n",
    "\n",
    "  <h2>Изображение:</h2>\n",
    "  <img src=\"https://static.tildacdn.net/tild3333-3534-4535-a465-643634653734/Group_3793.svg\" alt=\"Пример изображения (логотип)\">\n",
    "\n",
    "  <h2>Ссылка:</h2>\n",
    "  <p><a href=\"https://example.com\">Перейти на внешний сайт</a></p>\n",
    "\n",
    "</body>\n",
    "</html>"
   ]
  },
  {
   "cell_type": "markdown",
   "id": "8607d301-86ee-4d69-b1ff-4132981615e7",
   "metadata": {},
   "source": [
    "# **Таблицы**\n",
    "\n",
    "- `<table>` — таблица  \n",
    "- `<tr>` — строка таблицы  \n",
    "- `<th>` — заголовочная ячейка (bold + по центру)  \n",
    "- `<td>` — обычная ячейка  "
   ]
  },
  {
   "cell_type": "markdown",
   "id": "5eb8caa8-addd-4840-aab5-98bbe1b97ce8",
   "metadata": {},
   "source": [
    "``` html\n",
    "<table>\n",
    "  <tr>\n",
    "    <th>Имя</th>\n",
    "    <th>Возраст</th>\n",
    "  </tr>\n",
    "  <tr>\n",
    "    <td>Анна</td>\n",
    "    <td>22</td>\n",
    "  </tr>\n",
    "  <tr>\n",
    "    <td>Олег</td>\n",
    "    <td>30</td>\n",
    "  </tr>\n",
    "</table>"
   ]
  },
  {
   "cell_type": "markdown",
   "id": "830f91e6",
   "metadata": {},
   "source": [
    "<!-- ``` html -->\n",
    "<table>\n",
    "  <tr>\n",
    "    <th>Имя</th>\n",
    "    <th>Возраст</th>\n",
    "  </tr>\n",
    "  <tr>\n",
    "    <td>Анна</td>\n",
    "    <td>22</td>\n",
    "  </tr>\n",
    "  <tr>\n",
    "    <td>Олег</td>\n",
    "    <td>30</td>\n",
    "  </tr>\n",
    "</table>"
   ]
  },
  {
   "cell_type": "markdown",
   "id": "37512fc3-6ca7-45f4-8ab8-dbe2fd4c6c56",
   "metadata": {},
   "source": [
    "# Парсинг веб-страниц с помощью `BeautifulSoup`"
   ]
  },
  {
   "cell_type": "markdown",
   "id": "a89cdbdc-145c-4322-8039-6916444fc626",
   "metadata": {},
   "source": [
    "`BeautifulSoup` — это библиотека Python для удобного извлечения данных из HTML и XML. Она превращает HTML в дерево тегов, по которому можно легко искать нужные элементы. Часто используется вместе с библиотекой `requests`, которая помогает получать HTML-код веб-страницы."
   ]
  },
  {
   "cell_type": "code",
   "execution_count": null,
   "id": "ed8f67f5-ebc9-4037-bd88-77a7d13ab8fb",
   "metadata": {},
   "outputs": [
    {
     "name": "stdout",
     "output_type": "stream",
     "text": [
      "Requirement already satisfied: beautifulsoup4 in c:\\users\\razno\\appdata\\local\\programs\\python\\python313\\lib\\site-packages (4.13.3)\n",
      "Requirement already satisfied: soupsieve>1.2 in c:\\users\\razno\\appdata\\local\\programs\\python\\python313\\lib\\site-packages (from beautifulsoup4) (2.6)\n",
      "Requirement already satisfied: typing-extensions>=4.0.0 in c:\\users\\razno\\appdata\\local\\programs\\python\\python313\\lib\\site-packages (from beautifulsoup4) (4.12.2)\n"
     ]
    }
   ],
   "source": [
    "# !pip install beautifulsoup4"
   ]
  },
  {
   "cell_type": "code",
   "execution_count": 3,
   "id": "ecaa2ca8-0833-47ca-b699-311f24081f81",
   "metadata": {},
   "outputs": [
    {
     "name": "stdout",
     "output_type": "stream",
     "text": [
      "Заголовок страницы: Example Domain\n"
     ]
    }
   ],
   "source": [
    "import requests\n",
    "from bs4 import BeautifulSoup\n",
    "\n",
    "url = 'https://example.com'\n",
    "response = requests.get(url)\n",
    "\n",
    "if response.status_code == 200:\n",
    "    soup = BeautifulSoup(response.text, 'html.parser')\n",
    "    title = soup.title.text\n",
    "    print('Заголовок страницы:', title)\n",
    "else:\n",
    "    print('Ошибка при запросе:', response.status_code)"
   ]
  },
  {
   "cell_type": "markdown",
   "id": "18dd1665-39a8-4282-ab43-c978e826cc7c",
   "metadata": {},
   "source": [
    "# Основные методы поиска \n",
    "\n",
    "- `find(tag, attrs)` — находит **первый** тег с указанными условиями;\n",
    "- `find_all(tag, attrs)` — находит **все** подходящие теги;\n",
    "- `.text` или `.get_text()` — извлекает текст из тега;\n",
    "- `.get('атрибут')` — извлекает значение атрибута, например `href`."
   ]
  },
  {
   "cell_type": "code",
   "execution_count": 4,
   "id": "9c683b38-1229-4695-8636-96fb0ac66e46",
   "metadata": {},
   "outputs": [
    {
     "name": "stdout",
     "output_type": "stream",
     "text": [
      "<h1>Example Domain</h1>\n",
      "Example Domain\n"
     ]
    }
   ],
   "source": [
    "print(soup.find('h1'))                   # Первый <h1>\n",
    "print(soup.find('h1').text)              # Текст первого <h1>"
   ]
  },
  {
   "cell_type": "code",
   "execution_count": 5,
   "id": "0af9de34-a374-42b1-8569-2c1004080078",
   "metadata": {},
   "outputs": [
    {
     "name": "stdout",
     "output_type": "stream",
     "text": [
      "<a href=\"https://www.iana.org/domains/example\">More information...</a>\n",
      "More information...\n",
      "https://www.iana.org/domains/example\n",
      "https://www.iana.org/domains/example\n"
     ]
    }
   ],
   "source": [
    "print(soup.find('a'))                   # Первый <a>\n",
    "print(soup.find('a').text)              # Текст первого <a>\n",
    "print(soup.find('a').get('href'))           # Ссылка из первого <a>\n",
    "print(soup.find('a')['href'])               # Альтернативный способ"
   ]
  },
  {
   "cell_type": "code",
   "execution_count": 6,
   "id": "237fc6d0-7261-406a-83cf-5680e082118c",
   "metadata": {},
   "outputs": [
    {
     "name": "stdout",
     "output_type": "stream",
     "text": [
      "This domain is for use in illustrative examples in documents. You may use this\n",
      "    domain in literature without prior coordination or asking for permission.\n",
      "More information...\n"
     ]
    }
   ],
   "source": [
    "list_p = soup.find_all('p')              # Все <p>\n",
    "# print(list_p)\n",
    "\n",
    "for tag in list_p:\n",
    "    print(tag.text)"
   ]
  },
  {
   "cell_type": "markdown",
   "id": "e92158ef",
   "metadata": {},
   "source": [
    "# Получить все внешние ссылки."
   ]
  },
  {
   "cell_type": "code",
   "execution_count": 7,
   "id": "f6e96b96-1d7d-4a62-bb14-1328f7ae339a",
   "metadata": {},
   "outputs": [
    {
     "name": "stdout",
     "output_type": "stream",
     "text": [
      "https://www.pythonjobshq.com\n",
      "https://support.realpython.com/\n",
      "https://realpython.workable.com\n",
      "https://www.youtube.com/realpython\n",
      "https://x.com/realpython\n",
      "https://www.linkedin.com/company/realpython-com\n",
      "https://www.facebook.com/LearnRealPython\n",
      "https://github.com/realpython/\n"
     ]
    }
   ],
   "source": [
    "import requests\n",
    "from bs4 import BeautifulSoup\n",
    "\n",
    "html = requests.get(\"https://realpython.com\").text\n",
    "soup = BeautifulSoup(html, \"html.parser\")\n",
    "\n",
    "links = soup.find_all(\"a\")\n",
    "for i in links:\n",
    "    href = i.attrs.get(\"href\")\n",
    "    if href[:4]==\"http\":\n",
    "        print(href)"
   ]
  },
  {
   "cell_type": "code",
   "execution_count": null,
   "id": "93dbf945",
   "metadata": {},
   "outputs": [],
   "source": [
    "import requests\n",
    "from bs4 import BeautifulSoup\n",
    "\n",
    "html = requests.get(\"https://realpython.com\").text\n",
    "soup = BeautifulSoup(html, \"html.parser\")\n",
    "\n",
    "links = soup.find_all(\"a\")\n",
    "for i in links:\n",
    "    href = i.attrs.get(\"href\")\n",
    "    if href[:4]==\"http\":\n",
    "        print(href)\n",
    "        # html_new = requests.get(href).text\n",
    "        # soup_new = BeautifulSoup(html_new, \"html.parser\")\n",
    "        # ..."
   ]
  },
  {
   "cell_type": "markdown",
   "id": "122083d0-72a4-4dfa-a79f-4989e98e90ea",
   "metadata": {},
   "source": [
    "## Обработка таблиц"
   ]
  },
  {
   "cell_type": "code",
   "execution_count": null,
   "id": "1d6610fb-ad6f-41c8-9b7f-ea9479264287",
   "metadata": {},
   "outputs": [],
   "source": [
    "# table = soup.find('table')\n",
    "# rows = table.find_all('tr')\n",
    "\n",
    "# for row in rows:\n",
    "#     cols = row.find_all('td')\n",
    "#     data = [col.text.strip() for col in cols]\n",
    "#     print(data)"
   ]
  },
  {
   "cell_type": "markdown",
   "id": "03b097d3-48df-49f2-a69c-d5b6f0294982",
   "metadata": {},
   "source": [
    "https://the-internet.herokuapp.com/tables"
   ]
  },
  {
   "cell_type": "code",
   "execution_count": 22,
   "id": "cad69aaf-d213-4668-bf2b-511674a2e36d",
   "metadata": {},
   "outputs": [
    {
     "name": "stdout",
     "output_type": "stream",
     "text": [
      "Заголовки: ['Last Name', 'First Name', 'Email', 'Due', 'Web Site', 'Action']\n",
      "['Smith', 'John', 'jsmith@gmail.com', '$50.00', 'http://www.jsmith.com', 'edit\\ndelete']\n",
      "['Bach', 'Frank', 'fbach@yahoo.com', '$51.00', 'http://www.frank.com', 'edit\\ndelete']\n",
      "['Doe', 'Jason', 'jdoe@hotmail.com', '$100.00', 'http://www.jdoe.com', 'edit\\ndelete']\n",
      "['Conway', 'Tim', 'tconway@earthlink.net', '$50.00', 'http://www.timconway.com', 'edit\\ndelete']\n"
     ]
    }
   ],
   "source": [
    "url = \"https://the-internet.herokuapp.com/tables\"\n",
    "response = requests.get(url)\n",
    "\n",
    "if response.status_code == 200:\n",
    "    soup = BeautifulSoup(response.text, \"html.parser\")\n",
    "    \n",
    "    # Находим первую таблицу\n",
    "    table = soup.find(\"table\", id=\"table1\")\n",
    "    \n",
    "    # Извлекаем заголовки\n",
    "    headers = [th.text.strip() for th in table.find_all(\"th\")]\n",
    "    print(\"Заголовки:\", headers)\n",
    "    \n",
    "    # Извлекаем строки данных\n",
    "    rows = table.find_all(\"tr\")[1:]  # Пропускаем заголовок\n",
    "    for row in rows:\n",
    "        cols = [td.text.strip() for td in row.find_all(\"td\")]\n",
    "        print(cols)\n",
    "else:\n",
    "    print(\"Ошибка запроса:\", response.status_code)"
   ]
  },
  {
   "cell_type": "markdown",
   "id": "7dc35709-7a0a-49b0-aeac-6c609b4773e2",
   "metadata": {},
   "source": [
    "Табличные данные удобнее иметь в форме списка словарей."
   ]
  },
  {
   "cell_type": "code",
   "execution_count": 9,
   "id": "a8e7582d-4924-4143-9ecf-c39d3a8113ad",
   "metadata": {},
   "outputs": [
    {
     "name": "stdout",
     "output_type": "stream",
     "text": [
      "{'Last Name': 'Smith', 'First Name': 'John', 'Email': 'jsmith@gmail.com', 'Due': '$50.00', 'Web Site': 'http://www.jsmith.com', 'Action': 'edit\\ndelete'}\n",
      "{'Last Name': 'Bach', 'First Name': 'Frank', 'Email': 'fbach@yahoo.com', 'Due': '$51.00', 'Web Site': 'http://www.frank.com', 'Action': 'edit\\ndelete'}\n",
      "{'Last Name': 'Doe', 'First Name': 'Jason', 'Email': 'jdoe@hotmail.com', 'Due': '$100.00', 'Web Site': 'http://www.jdoe.com', 'Action': 'edit\\ndelete'}\n",
      "{'Last Name': 'Conway', 'First Name': 'Tim', 'Email': 'tconway@earthlink.net', 'Due': '$50.00', 'Web Site': 'http://www.timconway.com', 'Action': 'edit\\ndelete'}\n"
     ]
    }
   ],
   "source": [
    "table = soup.find(\"table\", id=\"table2\")\n",
    "    \n",
    "headers = [th.text.strip() for th in table.find_all(\"th\")]\n",
    "    \n",
    "# Парсинг в словари\n",
    "data = []\n",
    "rows = table.find_all(\"tr\")[1:]  # Пропускаем строку заголовков\n",
    "for row in rows:\n",
    "    cols = [td.text.strip() for td in row.find_all(\"td\")]\n",
    "    row_dict = dict(zip(headers, cols))\n",
    "    data.append(row_dict)\n",
    "    \n",
    "# Вывод результата\n",
    "for entry in data:\n",
    "    print(entry)"
   ]
  }
 ],
 "metadata": {
  "kernelspec": {
   "display_name": "Python 3",
   "language": "python",
   "name": "python3"
  },
  "language_info": {
   "codemirror_mode": {
    "name": "ipython",
    "version": 3
   },
   "file_extension": ".py",
   "mimetype": "text/x-python",
   "name": "python",
   "nbconvert_exporter": "python",
   "pygments_lexer": "ipython3",
   "version": "3.13.2"
  }
 },
 "nbformat": 4,
 "nbformat_minor": 5
}
