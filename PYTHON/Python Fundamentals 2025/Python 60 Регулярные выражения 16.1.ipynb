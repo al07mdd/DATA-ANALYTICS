{
 "cells": [
  {
   "cell_type": "markdown",
   "id": "41e36f88-2224-401f-b874-704368a6c358",
   "metadata": {},
   "source": [
    "# Регулярные выражения"
   ]
  },
  {
   "cell_type": "markdown",
   "id": "a1a0af8a-3de3-4156-8b93-5df32aeadbd4",
   "metadata": {},
   "source": [
    "Регулярные выражения используются для:\n",
    "- Поиска текста по шаблону\n",
    "- Проверки формата строки\n",
    "- Замены текста\n",
    "- Разделения строк"
   ]
  },
  {
   "cell_type": "markdown",
   "id": "cca8f397-563a-42bb-9b90-347612140212",
   "metadata": {},
   "source": [
    "# Модуль `re`"
   ]
  },
  {
   "cell_type": "code",
   "execution_count": 2,
   "id": "1feb7836-07c7-4966-8bf5-611639fb2a3a",
   "metadata": {},
   "outputs": [],
   "source": [
    "import re"
   ]
  },
  {
   "cell_type": "markdown",
   "id": "2f410416-b3f3-4a68-82b7-a10b75005c22",
   "metadata": {},
   "source": [
    "Основные функции модуля `re`:\n",
    "- `re.search(pattern, string)` – ищет первое совпадение шаблона в строке.\n",
    "- `re.match(pattern, string)` – проверяет, начинается ли строка с шаблона.\n",
    "- `re.findall(pattern, string)` – возвращает список всех совпадений.\n",
    "- `re.finditer(pattern, string)` – возвращает итератор с совпадениями.\n",
    "- `re.sub(pattern, repl, string)` – заменяет найденные совпадения.\n",
    "- `re.split(pattern, string)` – разделяет строку по шаблону."
   ]
  },
  {
   "cell_type": "markdown",
   "id": "d1fcb86b-3d54-496c-a691-1576fdd71131",
   "metadata": {},
   "source": [
    "## Функция `findall`"
   ]
  },
  {
   "cell_type": "code",
   "execution_count": null,
   "id": "d9baf6a7-4350-4c68-8057-359778395ffd",
   "metadata": {},
   "outputs": [],
   "source": [
    "# re.findall(pattern, string)"
   ]
  },
  {
   "cell_type": "code",
   "execution_count": 3,
   "id": "3f156f50-df08-43f2-813a-2d39e1577f26",
   "metadata": {},
   "outputs": [
    {
     "name": "stdout",
     "output_type": "stream",
     "text": [
      "['3', '9', '17', '14']\n"
     ]
    }
   ],
   "source": [
    "text = \"Python 3.9, Java 17, C++ 14\"\n",
    "\n",
    "numbers = re.findall(r\"\\d+\", text)  # Поиск всех чисел\n",
    "print(numbers)"
   ]
  },
  {
   "cell_type": "markdown",
   "id": "109aa3e5-c876-4cb7-a847-e8669020ced7",
   "metadata": {},
   "source": [
    "# Основные символы в регулярных выражениях"
   ]
  },
  {
   "cell_type": "markdown",
   "id": "ac94da2d-8d6f-41f6-af10-df3c39fe3413",
   "metadata": {},
   "source": [
    "| Символ | Описание                          |\n",
    "|--------|-----------------------------------|\n",
    "| `\\d`   | Любая цифра (`0–9`)               |\n",
    "| `\\D`   | Любой символ, кроме `\\d`          |\n",
    "| `\\w`   | Буквы, цифры и `_`                |\n",
    "| `\\W`   | Любой символ, кроме `\\w`          |\n",
    "| `\\s`   | Пробел, `\\t`, `\\n`                |\n",
    "| `\\S`   | Любой символ, кроме `\\s`          |\n",
    "| `.`    | Любой символ, кроме `\\n`          |"
   ]
  },
  {
   "cell_type": "code",
   "execution_count": null,
   "id": "f330eb3e-b338-4589-899f-483412891303",
   "metadata": {},
   "outputs": [],
   "source": [
    "text = \"\\tPython 3.12, Java 17, C++ 14!\\n\"\n",
    "\n",
    "print(\"Цифры:\", re.findall(r\"\\d\", text))\n",
    "print(\"Двузначные цифры:\", re.findall(r\"\\d\\d\", text))\n",
    "print(\"НЕ цифры:\", re.findall(r\"\\D\", text))\n",
    "print(\"Буквы, цифры, _:\", re.findall(r\"\\w\", text))\n",
    "print(\"НЕ буквы, цифры, _:\", re.findall(r\"\\W\", text))\n",
    "print(\"Пробелы:\", re.findall(r\"\\s\", text))\n",
    "print(\"НЕ пробелы:\", re.findall(r\"\\S\", text))\n",
    "print(\"Все символы (кроме \\\\n):\", re.findall(r\".\", text))"
   ]
  },
  {
   "cell_type": "code",
   "execution_count": null,
   "id": "30af55ba-875d-4428-8e04-df4e7814734f",
   "metadata": {},
   "outputs": [],
   "source": [
    "pattern = \"\\d\"  # ОШИБКА: \\d будет воспринято как управляющий символ\n",
    "print(re.findall(pattern, \"Price: 123\"))"
   ]
  },
  {
   "cell_type": "markdown",
   "id": "43a507ec-94ef-4be5-bb42-eeba33730409",
   "metadata": {},
   "source": [
    "## Классы символов"
   ]
  },
  {
   "cell_type": "markdown",
   "id": "d78254ae-1af5-49f4-be1b-e485d9f881f9",
   "metadata": {},
   "source": [
    "| Запись      | Описание                                      |\n",
    "|-------------|-----------------------------------------------|\n",
    "| `[afc]`     | Один из символов `a`, `f` или `c`             |\n",
    "| `[0-9]`     | Любая цифра от `0` до `9` (аналог `\\d`)       |\n",
    "| `[a-z]`     | Любая строчная буква от `a` до `z`            |\n",
    "| `[A-Z]`     | Любая заглавная буква от `A` до `Z`           |\n",
    "| `[a-zA-Z]`  | Любая буква (заглавная или строчная)          |\n",
    "| `[^abc]`    | Любой символ, **кроме** `a`, `b` или `c`      |\n",
    "| `[^0-9]`    | Любой символ, **кроме** цифры                 |"
   ]
  },
  {
   "cell_type": "code",
   "execution_count": null,
   "id": "465fdbd0-bc59-42d7-b9ab-f7df6a9412c1",
   "metadata": {},
   "outputs": [
    {
     "name": "stdout",
     "output_type": "stream",
     "text": [
      "Все цифры: ['2', '1', '0']\n"
     ]
    }
   ],
   "source": [
    "text = \"Report, report, report2, report10\"\n",
    "\n",
    "print(\"Буквы r или R в слове:\", re.findall(r\"[rR]eport\", text))\n",
    "print(\"Все цифры:\", re.findall(r\"[0-9]\", text))\n",
    "print(\"Заглавные буквы:\", re.findall(r\"[A-Z]\", text))\n",
    "print(\"Строчные буквы:\", re.findall(r\"[a-z]\", text))\n",
    "print(\"Все буквы:\", re.findall(r\"[a-zA-Z]\", text))\n",
    "print(\"Все, кроме цифр:\", re.findall(r\"[^0-9]\", text))"
   ]
  },
  {
   "cell_type": "markdown",
   "id": "b5b104c2-dcdb-4da5-bc73-309893911bf5",
   "metadata": {},
   "source": [
    "## Квантификаторы"
   ]
  },
  {
   "cell_type": "markdown",
   "id": "62ad0d33-a37e-4945-8a5b-51cd6b9a0b95",
   "metadata": {},
   "source": [
    "| Квантификатор | Описание                          |\n",
    "|---------------|-----------------------------------|\n",
    "| `+`           | Один или более раз (`1, 2, 3...`) |\n",
    "| `*`           | Ноль или более раз (`0, 1, 2...`) |\n",
    "| `?`           | Ноль или один раз (`0, 1`)        |\n",
    "| `{n}`         | Ровно `n` раз                     |\n",
    "| `{n,}`        | `n` и более раз                   |\n",
    "| `{n,m}`       | От `n` до `m` раз                 |"
   ]
  },
  {
   "cell_type": "code",
   "execution_count": null,
   "id": "10637075-c3b7-4a3e-b668-f39f81a6df19",
   "metadata": {},
   "outputs": [],
   "source": [
    "text = \"\"\"\n",
    "Orders: ID123, ID4567, ID89\n",
    "Numbers: 123-45-67, 321-45-67\n",
    "Prices: 100$, 199.50$, 99.99€, 0.49€, .99€\n",
    "File names: report.txt, report2.txt, report10.txt\n",
    "\"\"\"\n",
    "\n",
    "print(\"Одна или более цифр:\", re.findall(r\"\\d+\", text))\n",
    "print(\"Телефонные номера (формата xxx-xx-xx):\", re.findall(r\"\\d{3}-\\d{2}-\\d{2}\", text))\n",
    "print(\"Цены (числа с десятичной точкой):\", re.findall(r\"\\d+\\.\\d+\", text))\n",
    "print(\"ID-коды:\", re.findall(r\"ID\\d{2,}\", text))\n",
    "print(\"Имена файлов 0+ цифр:\", re.findall(r\"report\\d*.txt\", text))\n",
    "print(\"Имена файлов 0/1 цифр:\", re.findall(r\"report\\d?.txt\", text))\n",
    "print(\"Имена файлов 1/2 цифр:\", re.findall(r\"report\\d{1,2}.txt\", text))"
   ]
  },
  {
   "cell_type": "markdown",
   "id": "bbffad67-be05-455f-a09b-da7b4241a334",
   "metadata": {},
   "source": [
    "### Жадные и ленивые квантификаторы"
   ]
  },
  {
   "cell_type": "markdown",
   "id": "5bfd4f24-be7d-4fc7-ab07-7f27d4c5500d",
   "metadata": {},
   "source": [
    "| Квантификатор | Тип      | Описание                                                                       |\n",
    "|----------------|----------|--------------------------------------------------------------------------------|\n",
    "| `*`            | Жадный   | Захватывает **максимально возможное** количество символов                      |\n",
    "| `*?`           | Ленивый  | Захватывает **минимально возможное** количество символов                       |\n",
    "| `+`            | Жадный   | Захватывает **минимум 1 символ**, но **как можно больше**                      |\n",
    "| `+?`           | Ленивый  | Захватывает **минимум 1 символ**, но **как можно меньше**                      |\n",
    "| `{n,m}`        | Жадный   | Захватывает **от n до m**, но **как можно больше**                             |\n",
    "| `{n,m}?`       | Ленивый  | Захватывает **от n до m**, но **как можно меньше**                             |"
   ]
  },
  {
   "cell_type": "code",
   "execution_count": null,
   "id": "09f78a7c-5088-403e-9c35-8c50824f6b3f",
   "metadata": {},
   "outputs": [],
   "source": [
    "text = \"<div>Hello</div><div>World</div>\"\n",
    "\n",
    "greedy = re.findall(r\"<.*>\", text)  # Жадный\n",
    "lazy = re.findall(r\"<.*?>\", text)   # Ленивый\n",
    "\n",
    "print(greedy)\n",
    "print(lazy)"
   ]
  },
  {
   "cell_type": "code",
   "execution_count": 5,
   "id": "e24d46fa",
   "metadata": {},
   "outputs": [
    {
     "name": "stdout",
     "output_type": "stream",
     "text": [
      "['report6']\n",
      "['report678']\n"
     ]
    }
   ],
   "source": [
    "text = \"report678\"\n",
    "pattern_l = r\"report\\d{1,3}?\"\n",
    "pattern_g = r\"report\\d{1,3}\"\n",
    "print(re.findall(pattern_l, text))\n",
    "print(re.findall(pattern_g, text))"
   ]
  },
  {
   "cell_type": "markdown",
   "id": "757f9367-f253-45c5-b19d-ae39b30b9fa3",
   "metadata": {},
   "source": [
    "**Сопоставь шаблон с тем, что он найдёт:**\n",
    "\n",
    "1. `\\d+`                c) Последовательность цифр \n",
    "2. `[a-zA-Z0-9]+`       b) Последовательность букв и цифр\n",
    "3. `\\s+`                a) Несколько подряд идущих пробелов\n",
    "4. `[^a-zA-Z0-9]+`      d) Последовательность НЕ букв и НЕ цифр\n",
    "\n",
    "**Варианты:**\n",
    "\n",
    "a) Несколько подряд идущих пробелов  \n",
    "b) Последовательность букв и цифр  \n",
    "c) Последовательность цифр  \n",
    "d) Последовательность НЕ букв и НЕ цифр  "
   ]
  },
  {
   "cell_type": "code",
   "execution_count": null,
   "id": "6755c1ff-2a0f-4e01-997e-47b49bc1d947",
   "metadata": {},
   "outputs": [],
   "source": [
    "re.findall(\"\\d+\", \"Value: 123\")"
   ]
  },
  {
   "cell_type": "markdown",
   "id": "7ec8f895-889c-4204-b7ad-9df514ab5e82",
   "metadata": {},
   "source": [
    "В каком шаблоне используется ленивый квантификатор?\n",
    "\n",
    "a) `<.+>`\n",
    "b) `<.*>`\n",
    "# c) `<.*?>`\n",
    "d) `.*[a-z]`"
   ]
  },
  {
   "cell_type": "markdown",
   "id": "c67002e2-d5a1-41e6-8018-e0a4e92ff998",
   "metadata": {},
   "source": [
    "# Cпециальные символы"
   ]
  },
  {
   "cell_type": "code",
   "execution_count": null,
   "id": "88002fbf-ce79-4892-b97c-f681c735a249",
   "metadata": {},
   "outputs": [],
   "source": [
    "text = \"report.txt, report2.txt, report10.txt, some_txt_report, some_report_txt, reports\\\\report.txt, report2.txt\"\n",
    "\n",
    "print(\"Имена файлов с txt:\", re.findall(r\"\\w+.txt\", text))\n",
    "\n",
    "# Имена файлов с расширением .txt\n",
    "print(\"Имена файлов с расширением .txt:\", re.findall(r\"\\w+\\.txt\", text))\n",
    "\n",
    "# Имена файлов в папке\n",
    "print(\"Имена файлов в папке:\", re.findall(r\"\\w+\\\\\\w+\\.\\w+\", text))"
   ]
  },
  {
   "cell_type": "markdown",
   "id": "0b922983-90a3-493c-ada3-a746d34943ce",
   "metadata": {},
   "source": [
    "## Якоря"
   ]
  },
  {
   "cell_type": "markdown",
   "id": "f5d5d74d-73d8-443e-b2b2-b01b8b7d6ff4",
   "metadata": {},
   "source": [
    "| Якорь | Описание            |\n",
    "|-------|---------------------|\n",
    "| `^`   | Начало строки       |\n",
    "| `$`   | Конец строки        |\n",
    "| `\\b`  | Граница слова       |\n",
    "| `\\B`  | Не граница слова    |"
   ]
  },
  {
   "cell_type": "code",
   "execution_count": null,
   "id": "636eacc3-e16d-4131-a853-4a9f88cdccac",
   "metadata": {},
   "outputs": [],
   "source": [
    "text = \"Hello world! Welcome to world\"\n",
    "\n",
    "print(\"Слово в начале строки:\", re.findall(r\"^\\w+\", text))\n",
    "print(\"Слово в конце строки:\", re.findall(r\"\\w+$\", text))\n",
    "\n",
    "\n",
    "text2 = \"category wildcat education _cat_ catalog\"\n",
    "\n",
    "print(\"Слова с 'cat' внутри:\", re.findall(r\"\\w+cat\\w+\", text2))\n",
    "print(\"Слова с 'cat' в начале слов:\", re.findall(r\"\\bcat\\w*\", text2))\n",
    "print(\"Слова с 'cat' в конце слов:\", re.findall(r\"\\w*cat\\b\", text2))\n",
    "\n",
    "text3 = \"X123X 234 4567X X999\"\n",
    "print(\"Числа внутри строк:\", re.findall(r\"\\B\\d+\\B\", text3))"
   ]
  },
  {
   "cell_type": "markdown",
   "id": "d807c6bd-c639-4e08-a136-a75d3c5d7a41",
   "metadata": {},
   "source": [
    "## Альтернативы"
   ]
  },
  {
   "cell_type": "code",
   "execution_count": null,
   "id": "ee65a9a4-4aff-4c41-abb6-b60d2e052ad9",
   "metadata": {},
   "outputs": [],
   "source": [
    "text = \"Meeting on 2024-05-10 or 10/05/2024 at 14:30\"\n",
    "\n",
    "# Найдём даты в формате YYYY-MM-DD или DD/MM/YYYY\n",
    "print(\"Даты:\", re.findall(r\"\\d{4}-\\d{2}-\\d{2}|\\d{2}/\\d{2}/\\d{4}\", text))"
   ]
  },
  {
   "cell_type": "markdown",
   "id": "c91d378b-d6b2-4111-84e5-c2056ca880e1",
   "metadata": {},
   "source": [
    "## Группы"
   ]
  },
  {
   "cell_type": "code",
   "execution_count": 7,
   "id": "a0394454-09d4-48e5-a095-ae9bdaf94f67",
   "metadata": {},
   "outputs": [
    {
     "name": "stdout",
     "output_type": "stream",
     "text": [
      "ID заказа: 12345\n",
      "Номер счёта: 67890\n"
     ]
    }
   ],
   "source": [
    "text = \"Order ID: 12345, Invoice No: 67890\"\n",
    "\n",
    "# Найдём ID заказа и счёта\n",
    "match = re.search(r\"Order ID: (\\d+), Invoice No: (\\d+)\", text)\n",
    "\n",
    "if match:\n",
    "    print(\"ID заказа:\", match.group(1))\n",
    "    print(\"Номер счёта:\", match.group(2))"
   ]
  },
  {
   "cell_type": "code",
   "execution_count": 8,
   "id": "f117b156-d35b-4028-bd75-e69a6c24a420",
   "metadata": {},
   "outputs": [
    {
     "name": "stdout",
     "output_type": "stream",
     "text": [
      "Суммы: ['100', '200', '300']\n",
      "Суммы: [('USD', '100'), ('EUR', '200'), ('GBP', '300')]\n"
     ]
    }
   ],
   "source": [
    "text = \"USD 100, EUR 200, GBP 300\"\n",
    "\n",
    "# Найдём суммы, не выделяя валюту\n",
    "matches = re.findall(r\"(?:USD|EUR|GBP) (\\d+)\", text)\n",
    "print(\"Суммы:\", matches)\n",
    "\n",
    "# Найдём суммы и валюту\n",
    "matches = re.findall(r\"(USD|EUR|GBP) (\\d+)\", text)\n",
    "print(\"Суммы:\", matches)"
   ]
  },
  {
   "cell_type": "code",
   "execution_count": 9,
   "id": "ace10da4",
   "metadata": {},
   "outputs": [
    {
     "name": "stdout",
     "output_type": "stream",
     "text": [
      "Суммы: ['USD', 'EUR', 'GBP']\n"
     ]
    }
   ],
   "source": [
    "# Найдём суммы, не выделяя валюту\n",
    "matches = re.findall(r\"(USD|EUR|GBP) (?:\\d+)\", text)\n",
    "print(\"Суммы:\", matches)"
   ]
  },
  {
   "cell_type": "code",
   "execution_count": 12,
   "id": "7ad33c5d",
   "metadata": {},
   "outputs": [
    {
     "name": "stdout",
     "output_type": "stream",
     "text": [
      "Суммы: ['USD', 'EUR', 'GBP']\n",
      "Суммы: [('USD', '', '100'), ('', 'EUR', '200'), ('', 'GBP', '300')]\n"
     ]
    }
   ],
   "source": [
    "matches = re.findall(r\"(USD|EUR|GBP) (?:\\d+)\", text)\n",
    "print(\"Суммы:\", matches)\n",
    "text = \"USD 100, EUR 200, GBP 300\"\n",
    "\n",
    "# Найдём суммы, не выделяя валюту\n",
    "matches = re.findall(r\"(USD)?(EUR|GBP)? (\\d+)\", text)\n",
    "print(\"Суммы:\", matches)"
   ]
  },
  {
   "cell_type": "markdown",
   "id": "48596191-c33b-4974-bfff-e9b83ff66c23",
   "metadata": {},
   "source": [
    "# Функции модуля `re`"
   ]
  },
  {
   "cell_type": "markdown",
   "id": "8cf30419-e7aa-451e-ac27-f3aa29cc8e61",
   "metadata": {},
   "source": [
    "## Функция `re.match`"
   ]
  },
  {
   "cell_type": "markdown",
   "id": "c8a834fa-7864-420d-a11e-dc1d40ce7197",
   "metadata": {},
   "source": [
    "Объект Match содержит информацию о найденном фрагменте, включая:\n",
    "- `.group()` – само совпадение.\n",
    "- `.start()` – индекс начала совпадения.\n",
    "- `.end()` – индекс конца совпадения.\n",
    "- `.span()` – кортеж (start, end), показывающий границы совпадения."
   ]
  },
  {
   "cell_type": "code",
   "execution_count": null,
   "id": "d3a2c445-9f06-4fa7-a2d0-afa444786c1b",
   "metadata": {},
   "outputs": [],
   "source": [
    "text = \"ID12345 is confirmed. ID23456 is confirmed\"\n",
    "\n",
    "# Проверяем, начинается ли строка с \"ID\" + цифры\n",
    "match = re.match(r\"ID\\d+\", text)\n",
    "\n",
    "if match:\n",
    "    print(\"Объект Match:\", match)\n",
    "    print(\"Само совпадение:\", match.group())\n",
    "    print(\"Диапазон совпадения:\", match.span())\n",
    "else:\n",
    "    print(\"Нет совпадения.\")"
   ]
  },
  {
   "cell_type": "markdown",
   "id": "f7992945-5faf-49f3-b2af-b8cd3b13fcbb",
   "metadata": {},
   "source": [
    "## Функция `re.search`"
   ]
  },
  {
   "cell_type": "code",
   "execution_count": null,
   "id": "d32c3896-707a-4827-89a9-1d74c163befe",
   "metadata": {},
   "outputs": [],
   "source": [
    "text = \"Order ID: 12345, Invoice No: 67890, Ref: ABC9876\"\n",
    "\n",
    "# Найдём первое число в тексте\n",
    "match = re.search(r\"\\d+\", text)\n",
    "\n",
    "if match:\n",
    "    print(\"Объект Match:\", match)\n",
    "    print(\"Само совпадение:\", match.group())\n",
    "    print(\"Индекс начала:\", match.start())\n",
    "    print(\"Индекс конца:\", match.end())\n",
    "    print(\"Диапазон совпадения:\", match.span())\n",
    "else:\n",
    "    print(\"Нет совпадения.\")"
   ]
  },
  {
   "cell_type": "markdown",
   "id": "16fc9bf3-529c-4afe-9ad7-2907beb5bda4",
   "metadata": {},
   "source": [
    "## Флаг `re.IGNORECASE`"
   ]
  },
  {
   "cell_type": "code",
   "execution_count": null,
   "id": "7969d7dd-05f0-4db5-ab4e-82040c256a12",
   "metadata": {},
   "outputs": [],
   "source": [
    "text = \"Python is popular.\"\n",
    "\n",
    "# Найдём слово \"python\" без учёта регистра\n",
    "match = re.search(r\"python\", text, re.IGNORECASE)\n",
    "\n",
    "if match:\n",
    "    print(\"Найдено:\", match.group())"
   ]
  },
  {
   "cell_type": "markdown",
   "id": "ecec4aba-2862-4ae1-9dc0-7c6e0c27a395",
   "metadata": {},
   "source": [
    "## Функция `re.finditer`"
   ]
  },
  {
   "cell_type": "code",
   "execution_count": null,
   "id": "a9a6e340-51d1-43cf-b48f-92e8565297a2",
   "metadata": {},
   "outputs": [],
   "source": [
    "text = \"Order ID: 12345, Invoice No: 67890, Ref: ABC9876\"\n",
    "\n",
    "# Найдём все числа в тексте\n",
    "matches = re.finditer(r\"\\d+\", text)\n",
    "\n",
    "for match in matches:\n",
    "    print(\"Объект Match:\", match)\n",
    "    print(\"Само совпадение:\", match.group())\n",
    "    print(\"Диапазон совпадения:\", match.span())\n",
    "    print()"
   ]
  },
  {
   "cell_type": "markdown",
   "id": "fc36b7f7-3c3a-4e06-9460-7aaedb4823b9",
   "metadata": {},
   "source": [
    "## Функция `re.split`"
   ]
  },
  {
   "cell_type": "code",
   "execution_count": null,
   "id": "a8b0d20e-849d-4424-b100-aaef51735938",
   "metadata": {},
   "outputs": [],
   "source": [
    "text = \"\"\"Python is popular. It is used in web development, data science, \n",
    "and automation. Many developers choose Python for its simplicity.\"\"\"\n",
    "\n",
    "# Разделяем строку по запятым, пробелам и точкам\n",
    "words = re.split(r\"[,\\s.]+\", text)\n",
    "\n",
    "print(\"Список слов:\", words)"
   ]
  },
  {
   "cell_type": "markdown",
   "id": "d7e67841-3842-4adc-a4ba-ccd1a4819e5e",
   "metadata": {},
   "source": [
    "## Функция `re.sub`"
   ]
  },
  {
   "cell_type": "code",
   "execution_count": null,
   "id": "d98435a8-e35e-4f19-9b48-88a98c08ccdf",
   "metadata": {},
   "outputs": [],
   "source": [
    "# re.sub(pattern, repl, string)"
   ]
  },
  {
   "cell_type": "code",
   "execution_count": null,
   "id": "de68a2b4-63ad-486d-b543-9b5f94818dd0",
   "metadata": {},
   "outputs": [],
   "source": [
    "text = \"apple,   banana ,  orange ,grape\"\n",
    "\n",
    "# Удаляем лишние пробелы перед и после запятых\n",
    "clean_text = re.sub(r\"\\s*,\\s*\", \", \", text)\n",
    "\n",
    "print(\"Отформатированный текст:\", clean_text)"
   ]
  },
  {
   "cell_type": "markdown",
   "id": "a04d39b1-763f-461d-a890-22ae8765a74c",
   "metadata": {},
   "source": [
    "**Сопоставь якорь с его назначением:**\n",
    "\n",
    "1. `^`  \n",
    "2. `$`  \n",
    "3. `\\b`  \n",
    "4. `\\B`  \n",
    "\n",
    "**Варианты:**\n",
    "\n",
    "a) Указывает на конец строки  \n",
    "b) Указывает на начало строки  \n",
    "c) Обозначает границу слова  \n",
    "d) Указывает, что позиция не является границей слова"
   ]
  },
  {
   "cell_type": "markdown",
   "id": "cfd54b29-9ba6-4201-8d4e-056921c2e49e",
   "metadata": {},
   "source": [
    "В чём отличие `re.match()` от `re.search()`?"
   ]
  },
  {
   "cell_type": "markdown",
   "id": "5d0f83a5-b4a8-4479-a6f2-f61919132cb3",
   "metadata": {},
   "source": [
    "# Домашнее задание"
   ]
  },
  {
   "cell_type": "markdown",
   "id": "95e9508f-de02-4ccf-81d9-6db388469b23",
   "metadata": {},
   "source": [
    "## Извлечение дат\n",
    "\n",
    "1. Импортируем модуль `re` для работы с регулярными выражениями\n",
    "2. Получаем или загружаем текст, в котором нужно найти даты\n",
    "3. Определяем регулярное выражение, которое учитывает три формата:\n",
    "   - DD/MM/YYYY\n",
    "   - DD-MM-YYYY\n",
    "   - DD.MM.YYYY\n",
    "4. Шаблон включает:\n",
    "   - две цифры для дня: `\\d{2}`\n",
    "   - разделитель: `[\\/\\-\\.]`\n",
    "   - две цифры для месяца: `\\d{2}`\n",
    "   - тот же разделитель (с помощью обратной ссылки `\\1`, если хотим строго один тип в дате)\n",
    "   - четыре цифры для года: `\\d{4}`\n",
    "5. Используем `re.findall()` для поиска всех совпадений в тексте\n",
    "6. Получаем список всех найденных дат в различных форматах\n",
    "7. При необходимости — фильтруем или форматируем даты дальше"
   ]
  },
  {
   "cell_type": "markdown",
   "id": "b5c3f192-571a-4294-9a4c-fd03543eafa0",
   "metadata": {},
   "source": [
    "## Разделение списка тегов\n",
    "\n",
    "1. Получаем строку с тегами от пользователя (через `input()` или из переменной)\n",
    "2. В строке могут быть любые разделители: запятые, точки с запятой, косые черты, пробелы и т.п.\n",
    "3. Используем `re.split()` с шаблоном, который разделяет по любому из следующих символов:\n",
    "   - запятая `,`\n",
    "   - точка с запятой `;`\n",
    "   - слэш `/`\n",
    "   - пробел (один или несколько) — `\\s+`\n",
    "4. Получаем список всех элементов после разделения\n",
    "5. Применяем генератор списка или `filter`:\n",
    "   - убираем пустые строки\n",
    "   - удаляем лишние пробелы вокруг каждого тега с помощью `strip()`\n",
    "6. Получаем очищенный список тегов\n",
    "7. При необходимости можно удалить дубликаты или отсортироваь результат\n"
   ]
  },
  {
   "cell_type": "markdown",
   "id": "37fcf906-d038-44b5-a7ed-d28b269fd54b",
   "metadata": {},
   "source": [
    "# Практические задания"
   ]
  },
  {
   "cell_type": "markdown",
   "id": "55ca1bf0-9583-486d-b80a-531e21a59cd2",
   "metadata": {},
   "source": [
    "## Проверка пароля\n",
    "Реализуйте программу, которая должна проверить, соответствует ли введённый пароль следующим требованиям:\n",
    "- Минимум 8 символов\n",
    "- Есть хотя бы одна заглавная буква\n",
    "- Есть хотя бы одна строчная буква\n",
    "- Есть хотя бы одна цифра"
   ]
  },
  {
   "cell_type": "code",
   "execution_count": null,
   "id": "297381b5-2166-49c5-b9be-9ff3050b6a38",
   "metadata": {},
   "outputs": [],
   "source": [
    "# Решение"
   ]
  },
  {
   "cell_type": "markdown",
   "id": "7d73044a-d52b-45ed-b1c3-241bb99a7c2e",
   "metadata": {},
   "source": [
    "## Извлечение IP-адресов\n",
    "Программа должна найти все IPv4-адреса в строке.\n",
    "IPv4-адрес состоит из четырёх чисел от 0 до 255, разделённых точками."
   ]
  },
  {
   "cell_type": "code",
   "execution_count": null,
   "id": "295ca4ca-6afb-497f-9067-702ac56b7bca",
   "metadata": {},
   "outputs": [],
   "source": [
    "# Решение"
   ]
  }
 ],
 "metadata": {
  "kernelspec": {
   "display_name": "Python 3",
   "language": "python",
   "name": "python3"
  },
  "language_info": {
   "codemirror_mode": {
    "name": "ipython",
    "version": 3
   },
   "file_extension": ".py",
   "mimetype": "text/x-python",
   "name": "python",
   "nbconvert_exporter": "python",
   "pygments_lexer": "ipython3",
   "version": "3.13.2"
  }
 },
 "nbformat": 4,
 "nbformat_minor": 5
}
